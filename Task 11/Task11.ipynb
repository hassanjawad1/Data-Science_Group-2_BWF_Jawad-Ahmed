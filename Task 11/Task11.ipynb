{
 "cells": [
  {
   "cell_type": "code",
   "execution_count": 2,
   "metadata": {},
   "outputs": [],
   "source": [
    "import numpy as np"
   ]
  },
  {
   "cell_type": "code",
   "execution_count": 3,
   "metadata": {},
   "outputs": [
    {
     "name": "stdout",
     "output_type": "stream",
     "text": [
      "3x3 Sub-array:\n",
      " [[ 5  6 18]\n",
      " [ 2 10 11]\n",
      " [ 8  6 12]]\n"
     ]
    }
   ],
   "source": [
    "#1\n",
    "array_2d_5x5 = np.random.randint(1, 21, (5, 5))\n",
    "sub_array_3x3 = array_2d_5x5[1:4, 1:4]\n",
    "print(\"3x3 Sub-array:\\n\", sub_array_3x3)"
   ]
  },
  {
   "cell_type": "code",
   "execution_count": 4,
   "metadata": {},
   "outputs": [
    {
     "name": "stdout",
     "output_type": "stream",
     "text": [
      "Extracted elements from 3D array:\n",
      " [[20 16  2]\n",
      " [12 12 11]]\n"
     ]
    }
   ],
   "source": [
    "#2\n",
    "array_3d_4x3x2 = np.random.randint(1, 21, (4, 3, 2))\n",
    "sub_array_3d = array_3d_4x3x2[:2, :, 1]\n",
    "print(\"Extracted elements from 3D array:\\n\", sub_array_3d)"
   ]
  },
  {
   "cell_type": "code",
   "execution_count": 5,
   "metadata": {},
   "outputs": [
    {
     "name": "stdout",
     "output_type": "stream",
     "text": [
      "Fancy indexed elements: [ 5 15 20 35]\n"
     ]
    }
   ],
   "source": [
    "#3\n",
    "array_int = np.array([0, 5, 10, 15, 20, 25, 30, 35, 40])\n",
    "fancy_indexed = array_int[[1, 3, 4, 7]]\n",
    "print(\"Fancy indexed elements:\", fancy_indexed)"
   ]
  },
  {
   "cell_type": "code",
   "execution_count": 6,
   "metadata": {},
   "outputs": [
    {
     "name": "stdout",
     "output_type": "stream",
     "text": [
      "Fancy indexed 2D array:\n",
      " [[17  6]\n",
      " [ 5 17]\n",
      " [ 3 12]]\n"
     ]
    }
   ],
   "source": [
    "#4\n",
    "array_2d = np.random.randint(1, 21, (4, 5))\n",
    "fancy_indexed_2d = array_2d[[0, 2, 3]][:, [1, 3]]\n",
    "print(\"Fancy indexed 2D array:\\n\", fancy_indexed_2d)"
   ]
  },
  {
   "cell_type": "code",
   "execution_count": 7,
   "metadata": {},
   "outputs": [
    {
     "name": "stdout",
     "output_type": "stream",
     "text": [
      "Elements greater than 10: [17 15 19 14 11]\n"
     ]
    }
   ],
   "source": [
    "#5\n",
    "array_1d_random = np.random.randint(1, 20, 10)\n",
    "greater_than_10 = array_1d_random[array_1d_random > 10]\n",
    "print(\"Elements greater than 10:\", greater_than_10)"
   ]
  },
  {
   "cell_type": "code",
   "execution_count": 8,
   "metadata": {},
   "outputs": [
    {
     "name": "stdout",
     "output_type": "stream",
     "text": [
      "Array with elements > 15 replaced by 0:\n",
      " [[ 1  0 15  0  8]\n",
      " [ 0  5  6  0  9]\n",
      " [ 7  2 10 11  0]\n",
      " [ 7  8  6 12  4]\n",
      " [ 0  0  6  7  2]]\n"
     ]
    }
   ],
   "source": [
    "#6\n",
    "array_2d_5x5[array_2d_5x5 > 15] = 0\n",
    "print(\"Array with elements > 15 replaced by 0:\\n\", array_2d_5x5)"
   ]
  },
  {
   "cell_type": "code",
   "execution_count": 22,
   "metadata": {},
   "outputs": [
    {
     "name": "stdout",
     "output_type": "stream",
     "text": [
      "Broadcasted addition:\n",
      " [[ 2  4  9]\n",
      " [ 9 11 10]\n",
      " [ 8  7  9]\n",
      " [ 6  3  8]]\n"
     ]
    }
   ],
   "source": [
    "#7\n",
    "array_1d_3 = np.array([1, 2, 3])\n",
    "array_2d_4x3 = np.random.randint(1, 10, (4, 3))\n",
    "broadcasted_sum = array_2d_4x3 + array_1d_3\n",
    "print(\"Broadcasted addition:\\n\", broadcasted_sum)"
   ]
  },
  {
   "cell_type": "code",
   "execution_count": 21,
   "metadata": {},
   "outputs": [
    {
     "name": "stdout",
     "output_type": "stream",
     "text": [
      "Broadcasted multiplication:\n",
      " [[10 36 48]\n",
      " [12 16 48]\n",
      " [ 2  4 48]]\n"
     ]
    }
   ],
   "source": [
    "#8\n",
    "array_2d_3x3 = np.random.randint(1, 10, (3, 3))\n",
    "array_1d_3 = np.array([2, 4, 6])\n",
    "broadcasted_product = array_2d_3x3 * array_1d_3\n",
    "print(\"Broadcasted multiplication:\\n\", broadcasted_product)"
   ]
  },
  {
   "cell_type": "code",
   "execution_count": 20,
   "metadata": {},
   "outputs": [
    {
     "name": "stdout",
     "output_type": "stream",
     "text": [
      "Element-wise addition:\n",
      " [[11 21 31 41]\n",
      " [12 22 32 42]\n",
      " [13 23 33 43]]\n"
     ]
    }
   ],
   "source": [
    "#9\n",
    "array_2d_3x1 = np.array([[1], [2], [3]])\n",
    "array_2d_1x4 = np.array([[10, 20, 30, 40]])\n",
    "element_wise_sum = array_2d_3x1 + array_2d_1x4\n",
    "print(\"Element-wise addition:\\n\", element_wise_sum)     "
   ]
  },
  {
   "cell_type": "code",
   "execution_count": 19,
   "metadata": {},
   "outputs": [
    {
     "name": "stdout",
     "output_type": "stream",
     "text": [
      "Broadcasted addition in 3D:\n",
      " [[[11 15  9 16]\n",
      "  [11 11 10 13]\n",
      "  [ 9 12  9 15]]\n",
      "\n",
      " [[ 4  8  7 10]\n",
      "  [17 12 14 14]\n",
      "  [16 14  7 10]]]\n"
     ]
    }
   ],
   "source": [
    "#10\n",
    "array_3d_2x3x4 = np.random.randint(1, 10, (2, 3, 4))\n",
    "array_2d_3x4 = np.random.randint(1, 10, (3, 4))\n",
    "broadcasted_3d = array_3d_2x3x4 + array_2d_3x4\n",
    "print(\"Broadcasted addition in 3D:\\n\", broadcasted_3d)"
   ]
  },
  {
   "cell_type": "code",
   "execution_count": 23,
   "metadata": {},
   "outputs": [
    {
     "name": "stdout",
     "output_type": "stream",
     "text": [
      "Sliced and added array:\n",
      " [[ 8  7 21]\n",
      " [ 6 11 15]\n",
      " [ 3 11 11]]\n"
     ]
    }
   ],
   "source": [
    "#11\n",
    "array_2d_6x6 = np.random.randint(1, 20, (6, 6))\n",
    "sliced_array = array_2d_6x6[::2, ::2]\n",
    "array_1d_for_addition = np.array([1, 2, 3])\n",
    "sliced_with_addition = sliced_array + array_1d_for_addition\n",
    "print(\"Sliced and added array:\\n\", sliced_with_addition)\n"
   ]
  },
  {
   "cell_type": "code",
   "execution_count": 34,
   "metadata": {},
   "outputs": [
    {
     "name": "stdout",
     "output_type": "stream",
     "text": [
      "Original Array:\n",
      " [[ 7 13 14 14  6  1]\n",
      " [ 4 18 16 18  9 13]\n",
      " [17  8 16 13  4 11]\n",
      " [ 3  8 10  9  1 12]\n",
      " [12 12 15 18 15 16]\n",
      " [18  4  7 18 15  5]]\n",
      "Sliced Array:\n",
      " [[ 7 14  6]\n",
      " [17 16  4]\n",
      " [12 15 15]]\n",
      "Result after adding 1D array:\n",
      " [[ 8 16  9]\n",
      " [18 18  7]\n",
      " [13 17 18]]\n"
     ]
    }
   ],
   "source": [
    "#12\n",
    "import numpy as np\n",
    "array_2d = np.random.randint(1, 20, (6, 6))\n",
    "sliced_array = array_2d[::2, ::2]\n",
    "array_1d = np.array([1, 2, 3])\n",
    "result = sliced_array + array_1d\n",
    "\n",
    "print(\"Original Array:\\n\", array_2d)\n",
    "print(\"Sliced Array:\\n\", sliced_array)\n",
    "print(\"Result after adding 1D array:\\n\", result)"
   ]
  },
  {
   "cell_type": "code",
   "execution_count": 27,
   "metadata": {},
   "outputs": [
    {
     "name": "stdout",
     "output_type": "stream",
     "text": [
      "Diagonal elements: [15 19  9 12]\n"
     ]
    }
   ],
   "source": [
    "#13\n",
    "diagonal_elements = np.diagonal(array_2d)\n",
    "print(\"Diagonal elements:\", diagonal_elements)"
   ]
  },
  {
   "cell_type": "code",
   "execution_count": 28,
   "metadata": {},
   "outputs": [
    {
     "name": "stdout",
     "output_type": "stream",
     "text": [
      "Reversed rows:\n",
      " [[15  6 16 17 15]\n",
      " [15 13 14 19  6]\n",
      " [ 4 17  9  5 17]\n",
      " [ 5 12 18  3 20]]\n"
     ]
    }
   ],
   "source": [
    "#14\n",
    "reversed_array_2d = array_2d[:, ::-1]\n",
    "print(\"Reversed rows:\\n\", reversed_array_2d)"
   ]
  },
  {
   "cell_type": "code",
   "execution_count": 29,
   "metadata": {},
   "outputs": [
    {
     "name": "stdout",
     "output_type": "stream",
     "text": [
      "Sub-array with broadcasting:\n",
      " [[[15 13 16 21]\n",
      "  [10 17 19 14]\n",
      "  [16  8  6 17]]\n",
      "\n",
      " [[13 10  4  5]\n",
      "  [17 19 16 22]\n",
      "  [20 17  4 17]]]\n"
     ]
    }
   ],
   "source": [
    "#15\n",
    "array_3d_7x6x5 = np.random.randint(1, 20, (7, 6, 5))\n",
    "sub_array_2x3x4 = array_3d_7x6x5[:2, :3, :4]\n",
    "array_1d_for_broadcast = np.array([1, 2, 3, 4])\n",
    "added_broadcast = sub_array_2x3x4 + array_1d_for_broadcast[np.newaxis, np.newaxis, :]\n",
    "print(\"Sub-array with broadcasting:\\n\", added_broadcast)\n"
   ]
  },
  {
   "cell_type": "code",
   "execution_count": 30,
   "metadata": {},
   "outputs": [
    {
     "name": "stdout",
     "output_type": "stream",
     "text": [
      "Modified 2D array:\n",
      " [[ 6  4 10]\n",
      " [ 9  1 10]\n",
      " [ 4  4  8]\n",
      " [ 9  1 10]\n",
      " [ 9  9 18]]\n"
     ]
    }
   ],
   "source": [
    "#16\n",
    "array_2d_for_last = np.random.randint(1, 10, (5, 3))\n",
    "array_2d_for_last[:, -1] = array_2d_for_last[:, 0] + array_2d_for_last[:, 1]\n",
    "print(\"Modified 2D array:\\n\", array_2d_for_last)"
   ]
  }
 ],
 "metadata": {
  "kernelspec": {
   "display_name": "Python 3",
   "language": "python",
   "name": "python3"
  },
  "language_info": {
   "codemirror_mode": {
    "name": "ipython",
    "version": 3
   },
   "file_extension": ".py",
   "mimetype": "text/x-python",
   "name": "python",
   "nbconvert_exporter": "python",
   "pygments_lexer": "ipython3",
   "version": "3.12.1"
  }
 },
 "nbformat": 4,
 "nbformat_minor": 2
}
