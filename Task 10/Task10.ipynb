{
 "cells": [
  {
   "cell_type": "code",
   "execution_count": 2,
   "metadata": {},
   "outputs": [],
   "source": [
    "import numpy as np"
   ]
  },
  {
   "cell_type": "code",
   "execution_count": 3,
   "metadata": {},
   "outputs": [
    {
     "name": "stdout",
     "output_type": "stream",
     "text": [
      "1D Array: [0 1 2 3 4 5 6 7 8 9]\n"
     ]
    }
   ],
   "source": [
    "#1\n",
    "array_1d = np.arange(10)\n",
    "print(\"1D Array:\", array_1d)"
   ]
  },
  {
   "cell_type": "code",
   "execution_count": 4,
   "metadata": {},
   "outputs": [
    {
     "name": "stdout",
     "output_type": "stream",
     "text": [
      "2D Array:\n",
      " [[ 7  7 18]\n",
      " [10  5 20]\n",
      " [ 6 11 16]]\n"
     ]
    }
   ],
   "source": [
    "#2\n",
    "array_2d = np.random.randint(1, 21, size=(3, 3))\n",
    "print(\"2D Array:\\n\", array_2d)"
   ]
  },
  {
   "cell_type": "code",
   "execution_count": 5,
   "metadata": {},
   "outputs": [
    {
     "name": "stdout",
     "output_type": "stream",
     "text": [
      "3D Array:\n",
      " [[[1. 1. 1. 1.]\n",
      "  [1. 1. 1. 1.]\n",
      "  [1. 1. 1. 1.]]\n",
      "\n",
      " [[1. 1. 1. 1.]\n",
      "  [1. 1. 1. 1.]\n",
      "  [1. 1. 1. 1.]]]\n"
     ]
    }
   ],
   "source": [
    "#3\n",
    "array_3d = np.ones((2, 3, 4))\n",
    "print(\"3D Array:\\n\", array_3d)"
   ]
  },
  {
   "cell_type": "code",
   "execution_count": 6,
   "metadata": {},
   "outputs": [
    {
     "name": "stdout",
     "output_type": "stream",
     "text": [
      "Element-wise Sum: [5 7 9]\n"
     ]
    }
   ],
   "source": [
    "#4\n",
    "array_a = np.array([1, 2, 3])\n",
    "array_b = np.array([4, 5, 6])\n",
    "sum_arrays = np.add(array_a, array_b)\n",
    "print(\"Element-wise Sum:\", sum_arrays)"
   ]
  },
  {
   "cell_type": "code",
   "execution_count": 7,
   "metadata": {},
   "outputs": [
    {
     "name": "stdout",
     "output_type": "stream",
     "text": [
      "Element-wise Product:\n",
      " [[ 7 16 27]\n",
      " [40 55 72]]\n"
     ]
    }
   ],
   "source": [
    "#5\n",
    "array_c = np.array([[1, 2, 3], [4, 5, 6]])\n",
    "array_d = np.array([[7, 8, 9], [10, 11, 12]])\n",
    "product_arrays = np.multiply(array_c, array_d)\n",
    "print(\"Element-wise Product:\\n\", product_arrays)"
   ]
  },
  {
   "cell_type": "code",
   "execution_count": 8,
   "metadata": {},
   "outputs": [
    {
     "name": "stdout",
     "output_type": "stream",
     "text": [
      "Dot Product:\n",
      " [[ 50  68]\n",
      " [122 167]]\n"
     ]
    }
   ],
   "source": [
    "#6\n",
    "dot_product = np.dot(array_c, array_d.T)\n",
    "print(\"Dot Product:\\n\", dot_product)"
   ]
  },
  {
   "cell_type": "code",
   "execution_count": 9,
   "metadata": {},
   "outputs": [
    {
     "name": "stdout",
     "output_type": "stream",
     "text": [
      "Mean: 4.5 Median: 4.5 Standard Deviation: 2.8722813232690143\n"
     ]
    }
   ],
   "source": [
    "#7\n",
    "mean_value = np.mean(array_1d)\n",
    "median_value = np.median(array_1d)\n",
    "std_deviation = np.std(array_1d)\n",
    "print(\"Mean:\", mean_value, \"Median:\", median_value, \"Standard Deviation:\", std_deviation)"
   ]
  },
  {
   "cell_type": "code",
   "execution_count": 10,
   "metadata": {},
   "outputs": [
    {
     "name": "stdout",
     "output_type": "stream",
     "text": [
      "Max Value: 20 Min Value: 5\n"
     ]
    }
   ],
   "source": [
    "#8\n",
    "max_value = np.max(array_2d)\n",
    "min_value = np.min(array_2d)\n",
    "print(\"Max Value:\", max_value, \"Min Value:\", min_value)"
   ]
  },
  {
   "cell_type": "code",
   "execution_count": 13,
   "metadata": {},
   "outputs": [
    {
     "name": "stdout",
     "output_type": "stream",
     "text": [
      "Normal Distribution Array (first 10): [-0.82001269 -1.43722231 -0.2874587  -0.55237204 -0.25928776  0.88407157\n",
      "  0.19727292  1.23791207 -0.87134617  0.07915186]\n"
     ]
    }
   ],
   "source": [
    "#9\n",
    "normal_dist = np.random.normal(0, 1, 1000)\n",
    "print(\"Normal Distribution Array (first 10):\", normal_dist[:10])"
   ]
  },
  {
   "cell_type": "code",
   "execution_count": 14,
   "metadata": {},
   "outputs": [
    {
     "name": "stdout",
     "output_type": "stream",
     "text": [
      "2D Array from Uniform Distribution:\n",
      " [[17 42 48 48 24]\n",
      " [25 34 21 34 15]\n",
      " [27 29 34 24 28]\n",
      " [39 11 23 21 15]\n",
      " [23 14 50 38 31]]\n"
     ]
    }
   ],
   "source": [
    "#10\n",
    "uniform_dist_2d = np.random.randint(10, 51, size=(5, 5))\n",
    "print(\"2D Array from Uniform Distribution:\\n\", uniform_dist_2d)"
   ]
  },
  {
   "cell_type": "code",
   "execution_count": 17,
   "metadata": {},
   "outputs": [
    {
     "name": "stdout",
     "output_type": "stream",
     "text": [
      "Cumulative Sum: [ 0  1  3  6 10 15 21 28 36 45]\n"
     ]
    }
   ],
   "source": [
    "#11\n",
    "cumsum_array = np.cumsum(array_1d)\n",
    "print(\"Cumulative Sum:\", cumsum_array)"
   ]
  },
  {
   "cell_type": "code",
   "execution_count": 18,
   "metadata": {},
   "outputs": [
    {
     "name": "stdout",
     "output_type": "stream",
     "text": [
      "Correlation Coefficient Matrix:\n",
      " [[1.         0.94491118 0.8660254 ]\n",
      " [0.94491118 1.         0.65465367]\n",
      " [0.8660254  0.65465367 1.        ]]\n"
     ]
    }
   ],
   "source": [
    "#12\n",
    "corr_coeff_matrix = np.corrcoef(array_2d)\n",
    "print(\"Correlation Coefficient Matrix:\\n\", corr_coeff_matrix)"
   ]
  },
  {
   "cell_type": "code",
   "execution_count": 19,
   "metadata": {},
   "outputs": [
    {
     "name": "stdout",
     "output_type": "stream",
     "text": [
      "Dice Roll Frequencies: [192 170 167 158 164 149]\n"
     ]
    }
   ],
   "source": [
    "#13\n",
    "dice_rolls = np.random.randint(1, 7, 1000)\n",
    "roll_counts = np.bincount(dice_rolls)[1:]\n",
    "print(\"Dice Roll Frequencies:\", roll_counts)"
   ]
  }
 ],
 "metadata": {
  "kernelspec": {
   "display_name": "Python 3",
   "language": "python",
   "name": "python3"
  },
  "language_info": {
   "codemirror_mode": {
    "name": "ipython",
    "version": 3
   },
   "file_extension": ".py",
   "mimetype": "text/x-python",
   "name": "python",
   "nbconvert_exporter": "python",
   "pygments_lexer": "ipython3",
   "version": "3.12.1"
  }
 },
 "nbformat": 4,
 "nbformat_minor": 2
}
