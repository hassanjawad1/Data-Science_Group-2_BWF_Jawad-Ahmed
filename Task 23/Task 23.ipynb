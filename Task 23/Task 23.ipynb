{
 "cells": [
  {
   "cell_type": "markdown",
   "metadata": {},
   "source": [
    "### Linear Regression:\n",
    " This is the simplest type of regression model. It is used when the relationship between the independent variable and the dependent variable is linear."
   ]
  },
  {
   "cell_type": "code",
   "execution_count": 1,
   "metadata": {},
   "outputs": [
    {
     "name": "stdout",
     "output_type": "stream",
     "text": [
      "Coefficients:  [0.375 0.375]\n",
      "Intercept:  1.0416666666666665\n",
      "Predicted values:  [2.16666667 3.66666667 5.16666667]\n"
     ]
    }
   ],
   "source": [
    "from sklearn.linear_model import LinearRegression\n",
    "X = [[1, 2], [3, 4], [5, 6]]\n",
    "y = [2, 4, 5]\n",
    "lr_model = LinearRegression().fit(X, y)\n",
    "print(\"Coefficients: \", lr_model.coef_)\n",
    "print(\"Intercept: \", lr_model.intercept_)\n",
    "y_pred = lr_model.predict(X)\n",
    "print(\"Predicted values: \", y_pred)"
   ]
  },
  {
   "cell_type": "markdown",
   "metadata": {},
   "source": [
    "### Decision Tree Regression:\n",
    " This is a non-linear regression model that works well with categorical variables.\n"
   ]
  },
  {
   "cell_type": "code",
   "execution_count": 3,
   "metadata": {},
   "outputs": [
    {
     "name": "stdout",
     "output_type": "stream",
     "text": [
      "Coefficients:  [1. 0.]\n",
      "Predicted values:  [2. 4. 5.]\n"
     ]
    }
   ],
   "source": [
    "from sklearn.tree import DecisionTreeRegressor\n",
    "X = [[1, 2], [3, 4], [5, 6]]\n",
    "y = [2, 4, 5]\n",
    "dt_model = DecisionTreeRegressor().fit(X, y)\n",
    "print(\"Coefficients: \", dt_model.feature_importances_)\n",
    "y_pred = dt_model.predict(X)\n",
    "print(\"Predicted values: \", y_pred)"
   ]
  },
  {
   "cell_type": "code",
   "execution_count": null,
   "metadata": {},
   "outputs": [],
   "source": []
  }
 ],
 "metadata": {
  "kernelspec": {
   "display_name": "Python 3",
   "language": "python",
   "name": "python3"
  },
  "language_info": {
   "codemirror_mode": {
    "name": "ipython",
    "version": 3
   },
   "file_extension": ".py",
   "mimetype": "text/x-python",
   "name": "python",
   "nbconvert_exporter": "python",
   "pygments_lexer": "ipython3",
   "version": "3.12.2"
  }
 },
 "nbformat": 4,
 "nbformat_minor": 2
}
