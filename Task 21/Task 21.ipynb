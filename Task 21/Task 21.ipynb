{
 "cells": [
  {
   "cell_type": "markdown",
   "metadata": {},
   "source": [
    "### Linear Algebra Tasks\n",
    "\n"
   ]
  },
  {
   "cell_type": "code",
   "execution_count": 3,
   "metadata": {},
   "outputs": [
    {
     "name": "stdout",
     "output_type": "stream",
     "text": [
      "[[0. 0. 0.]\n",
      " [0. 0. 0.]\n",
      " [0. 0. 0.]]\n",
      "[[1. 0. 0.]\n",
      " [0. 1. 0.]\n",
      " [0. 0. 1.]]\n",
      "[[0.9172646  0.69984174 0.25343776]\n",
      " [0.26702347 0.45866153 0.4592166 ]\n",
      " [0.98560287 0.68435323 0.35603857]]\n",
      "[[ 6  8]\n",
      " [10 12]]\n",
      "[[-4 -4]\n",
      " [-4 -4]]\n",
      "[[19 22]\n",
      " [43 50]]\n",
      "[[1 3]\n",
      " [2 4]]\n",
      "Determinant: -2.0000000000000004\n",
      "Inverse: [[-2.   1. ]\n",
      " [ 1.5 -0.5]]\n",
      "[-4.   4.5]\n"
     ]
    }
   ],
   "source": [
    "import numpy as np\n",
    "\n",
    "# Task 1: Create a zero matrix\n",
    "A = np.zeros((3, 3))\n",
    "print(A)\n",
    "\n",
    "# Task 2: Create an identity matrix\n",
    "I = np.eye(3)\n",
    "print(I)\n",
    "\n",
    "# Task 3: Create a random matrix\n",
    "A = np.random.rand(3, 3)\n",
    "print(A)\n",
    "\n",
    "# Task 4: Basic matrix operations\n",
    "A = np.array([[1, 2], [3, 4]])\n",
    "B = np.array([[5, 6], [7, 8]])\n",
    "C = A + B\n",
    "print(C)\n",
    "D = A - B\n",
    "print(D)\n",
    "E = np.dot(A, B)\n",
    "print(E)\n",
    "\n",
    "# Task 5: Transpose a matrix\n",
    "A = np.array([[1, 2], [3, 4]])\n",
    "At = A.T\n",
    "print(At)\n",
    "\n",
    "# Task 6: Find the determinant and inverse of a matrix\n",
    "A = np.array([[1, 2], [3, 4]])\n",
    "det_A = np.linalg.det(A)\n",
    "inv_A = np.linalg.inv(A)\n",
    "print(\"Determinant:\", det_A)\n",
    "print(\"Inverse:\", inv_A)\n",
    "\n",
    "# Task 7: Solve a system of linear equations\n",
    "A = np.array([[1, 2], [3, 4]])\n",
    "b = np.array([5, 6])\n",
    "x = np.linalg.solve(A, b)\n",
    "print(x)\n",
    "\n"
   ]
  },
  {
   "cell_type": "markdown",
   "metadata": {},
   "source": [
    "### Vector Operations\n",
    "\n"
   ]
  },
  {
   "cell_type": "code",
   "execution_count": 4,
   "metadata": {},
   "outputs": [
    {
     "name": "stdout",
     "output_type": "stream",
     "text": [
      "[4 6]\n",
      "11\n",
      "-2\n"
     ]
    }
   ],
   "source": [
    "# Task 11: Basic vector operations (addition, dot product, cross product)\n",
    "v1 = np.array([1, 2])\n",
    "v2 = np.array([3, 4])\n",
    "v_sum = v1 + v2\n",
    "v_dot_product = np.dot(v1, v2)\n",
    "v_cross_product = np.cross(v1, v2)\n",
    "print(v_sum)\n",
    "print(v_dot_product)\n",
    "print(v_cross_product)\n"
   ]
  },
  {
   "cell_type": "code",
   "execution_count": 5,
   "metadata": {},
   "outputs": [
    {
     "name": "stdout",
     "output_type": "stream",
     "text": [
      "2.23606797749979\n",
      "[0.4472136  0.89442719]\n"
     ]
    }
   ],
   "source": [
    "\n",
    "# Task: Normalize a vector and compute vector norms\n",
    "v1 = np.array([1, 2])\n",
    "norm_v1 = np.linalg.norm(v1)\n",
    "normalized_v1 = v1 / norm_v1\n",
    "print(norm_v1)\n",
    "print(normalized_v1)\n"
   ]
  },
  {
   "cell_type": "markdown",
   "metadata": {},
   "source": [
    "### Calculus Tasks\n",
    "- Numerical Differentiation\n",
    "\n",
    "\n"
   ]
  },
  {
   "cell_type": "code",
   "execution_count": 6,
   "metadata": {},
   "outputs": [
    {
     "name": "stdout",
     "output_type": "stream",
     "text": [
      "Numerical derivative at x=1.0: 2.54030288515672\n"
     ]
    }
   ],
   "source": [
    "# Compute the numerical derivative of a given function\n",
    "def f(x):\n",
    "    return x**2 + np.sin(x)\n",
    "\n",
    "def numerical_derivative(f, x, h=1e-6):\n",
    "    return (f(x + h) - f(x)) / h\n",
    "\n",
    "\n",
    "x = 1.0\n",
    "derivative = numerical_derivative(f, x)\n",
    "print(f'Numerical derivative at x={x}: {derivative}')"
   ]
  },
  {
   "cell_type": "markdown",
   "metadata": {},
   "source": [
    "- Numerical Integration\n"
   ]
  },
  {
   "cell_type": "code",
   "execution_count": 8,
   "metadata": {},
   "outputs": [
    {
     "name": "stdout",
     "output_type": "stream",
     "text": [
      "Numerical integral using Trapezoidal rule: 1.999998351770852\n",
      "Numerical integral using Simpson's rule: 1.9979917671073473\n"
     ]
    }
   ],
   "source": [
    "# Compute the numerical integral of a given function\n",
    "def f(x):\n",
    "    return np.sin(x)\n",
    "\n",
    "def numerical_integral(f, a, b, method='trapezoidal', N=1000):\n",
    "    x = np.linspace(a, b, N)\n",
    "    dx = (b - a) / N\n",
    "    \n",
    "    if method == 'trapezoidal':\n",
    "        integral = np.trapz(f(x), x)\n",
    "    elif method == 'simpson':\n",
    "        integral = np.sum(dx / 3 * (f(x[0]) + 4*f(x[1:-1:2]).sum() + 2*f(x[2:-2:2]).sum() + f(x[-1])))\n",
    "    else:\n",
    "        raise ValueError(f'Method {method} is not supported.')\n",
    "\n",
    "    return integral\n",
    "\n",
    "\n",
    "a, b = 0, np.pi\n",
    "integral_trapezoidal = numerical_integral(f, a, b, method='trapezoidal')\n",
    "integral_simpson = numerical_integral(f, a, b, method='simpson')\n",
    "\n",
    "print(f'Numerical integral using Trapezoidal rule: {integral_trapezoidal}')\n",
    "print(f'Numerical integral using Simpson\\'s rule: {integral_simpson}')\n"
   ]
  },
  {
   "cell_type": "markdown",
   "metadata": {},
   "source": [
    "- Partial Derivatives\n"
   ]
  },
  {
   "cell_type": "code",
   "execution_count": 10,
   "metadata": {},
   "outputs": [
    {
     "name": "stdout",
     "output_type": "stream",
     "text": [
      "Partial derivative with respect to x: 2.0000010003684565\n",
      "Partial derivative with respect to y: 12.000006002210739\n"
     ]
    }
   ],
   "source": [
    "# Calculate partial derivatives of multivariable functions\n",
    "def f(x, y):\n",
    "    return x**2 + y**3\n",
    "\n",
    "def partial_derivative(f, var='x', point=(1, 2), h=1e-6):\n",
    "    if var == 'x':\n",
    "        return (f(point[0] + h, point[1]) - f(point[0], point[1])) / h\n",
    "    elif var == 'y':\n",
    "        return (f(point[0], point[1] + h) - f(point[0], point[1])) / h\n",
    "    else:\n",
    "        raise ValueError(f'Variable {var} is not supported.')\n",
    "\n",
    "# Example usage\n",
    "partial_x = partial_derivative(f, var='x', point=(1, 2))\n",
    "partial_y = partial_derivative(f, var='y', point=(1, 2))\n",
    "\n",
    "print(f'Partial derivative with respect to x: {partial_x}')\n",
    "print(f'Partial derivative with respect to y: {partial_y}')\n"
   ]
  },
  {
   "cell_type": "code",
   "execution_count": 11,
   "metadata": {},
   "outputs": [
    {
     "name": "stdout",
     "output_type": "stream",
     "text": [
      "Optimal solution: [0.5 0.5]\n"
     ]
    }
   ],
   "source": [
    "from scipy.optimize import minimize\n",
    "\n",
    "# Solve optimization problems with constraints\n",
    "def objective(x):\n",
    "    return x[0]**2 + x[1]**2\n",
    "\n",
    "def constraint(x):\n",
    "    return x[0] + x[1] - 1\n",
    "\n",
    "x0 = [0.5, 0.5]  # Initial guess\n",
    "bounds = ((-1, 1), (-1, 1))  # Bounds for variables\n",
    "constraint_obj = {'type': 'eq', 'fun': constraint}  # Constraint definition\n",
    "\n",
    "result = minimize(objective, x0, bounds=bounds, constraints=constraint_obj)\n",
    "\n",
    "print(f'Optimal solution: {result.x}')\n"
   ]
  }
 ],
 "metadata": {
  "kernelspec": {
   "display_name": "Python 3",
   "language": "python",
   "name": "python3"
  },
  "language_info": {
   "codemirror_mode": {
    "name": "ipython",
    "version": 3
   },
   "file_extension": ".py",
   "mimetype": "text/x-python",
   "name": "python",
   "nbconvert_exporter": "python",
   "pygments_lexer": "ipython3",
   "version": "3.12.2"
  }
 },
 "nbformat": 4,
 "nbformat_minor": 2
}
