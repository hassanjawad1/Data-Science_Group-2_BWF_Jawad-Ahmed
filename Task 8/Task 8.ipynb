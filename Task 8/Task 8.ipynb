{
 "cells": [
  {
   "cell_type": "code",
   "execution_count": 1,
   "metadata": {},
   "outputs": [],
   "source": [
    "# Define Data Structures\n",
    "products = {}  # Dictionary to store product details\n",
    "product_order = []  # List to maintain the order of product additions\n",
    "categories = set()  # Set to track unique categories\n",
    "\n",
    "def add_product(product_id, name, category, stock):\n",
    "    if product_id in products:\n",
    "        print(f\"Product ID {product_id} already exists.\")\n",
    "        return\n",
    "    \n",
    "    # Add product details to dictionary\n",
    "    products[product_id] = {\n",
    "        'info': (name, category),  # Tuple to store product name and category\n",
    "        'stock': stock\n",
    "    }\n",
    "    \n",
    "    # Add product ID to the order list\n",
    "    product_order.append(product_id)\n",
    "    \n",
    "    # Add category to the set of categories\n",
    "    categories.add(category)\n",
    "    \n",
    "    print(f\"Product {name} added.\")\n",
    "\n",
    "def update_stock(product_id, quantity):\n",
    "    if product_id not in products:\n",
    "        print(f\"Product ID {product_id} not found.\")\n",
    "        return\n",
    "    \n",
    "    # Update stock level\n",
    "    products[product_id]['stock'] += quantity\n",
    "    print(f\"Stock updated for product ID {product_id}.\")\n",
    "\n",
    "def display_products():\n",
    "    for product_id in product_order:\n",
    "        name, category = products[product_id]['info']\n",
    "        stock = products[product_id]['stock']\n",
    "        print(f\"ID: {product_id}, Name: {name}, Category: {category}, Stock: {stock}\")\n",
    "\n",
    "def display_by_category(category):\n",
    "    for product_id in product_order:\n",
    "        name, prod_category = products[product_id]['info']\n",
    "        if prod_category == category:\n",
    "            stock = products[product_id]['stock']\n",
    "            print(f\"ID: {product_id}, Name: {name}, Category: {category}, Stock: {stock}\")"
   ]
  },
  {
   "cell_type": "markdown",
   "metadata": {},
   "source": [
    "### For Checking\n"
   ]
  },
  {
   "cell_type": "code",
   "execution_count": 3,
   "metadata": {},
   "outputs": [
    {
     "name": "stdout",
     "output_type": "stream",
     "text": [
      "Product P1 added.\n",
      "Product P2 added.\n",
      "Product P3 added.\n",
      "Stock updated for product ID ID1.\n",
      "Stock updated for product ID ID2.\n",
      "\n",
      "All Products:\n",
      "ID: ID1, Name: P1, Category: Cate1, Stock: 62\n",
      "ID: ID2, Name: P2, Category: Cate2, Stock: 27\n",
      "ID: ID3, Name: P3, Category: Cate1, Stock: 21\n",
      "\n",
      "Products in Category1:\n",
      "\n",
      "Products in Category2:\n"
     ]
    }
   ],
   "source": [
    "add_product(\"ID1\", \"P1\", \"Cate1\", 52)\n",
    "add_product(\"ID2\", \"P2\", \"Cate2\", 32)\n",
    "add_product(\"ID3\", \"P3\", \"Cate1\", 21)\n",
    "\n",
    "# Update stock levels\n",
    "update_stock(\"ID1\", 10)\n",
    "update_stock(\"ID2\", -5)\n",
    "\n",
    "# Display all products\n",
    "print(\"\\nAll Products:\")\n",
    "display_products()\n",
    "\n",
    "# Display products by category\n",
    "print(\"\\nProducts in Category1:\")\n",
    "display_by_category(\"Category1\")\n",
    "\n",
    "print(\"\\nProducts in Category2:\")\n",
    "display_by_category(\"Category2\")"
   ]
  }
 ],
 "metadata": {
  "kernelspec": {
   "display_name": "Python 3",
   "language": "python",
   "name": "python3"
  },
  "language_info": {
   "codemirror_mode": {
    "name": "ipython",
    "version": 3
   },
   "file_extension": ".py",
   "mimetype": "text/x-python",
   "name": "python",
   "nbconvert_exporter": "python",
   "pygments_lexer": "ipython3",
   "version": "3.12.2"
  }
 },
 "nbformat": 4,
 "nbformat_minor": 2
}
